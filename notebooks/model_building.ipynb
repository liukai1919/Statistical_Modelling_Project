{
 "cells": [
  {
   "cell_type": "markdown",
   "metadata": {},
   "source": [
    "Build a regression model."
   ]
  },
  {
   "cell_type": "markdown",
   "metadata": {},
   "source": [
    "Import the necessary libraries"
   ]
  },
  {
   "cell_type": "code",
   "execution_count": 1,
   "metadata": {},
   "outputs": [],
   "source": [
    "import statsmodels.api as sm\n",
    "import pandas as pd\n",
    "import numpy as np\n",
    "import seaborn as sns\n",
    "import matplotlib.pyplot as plt\n"
   ]
  },
  {
   "cell_type": "markdown",
   "metadata": {},
   "source": [
    "Loading the data"
   ]
  },
  {
   "cell_type": "code",
   "execution_count": 2,
   "metadata": {},
   "outputs": [
    {
     "data": {
      "text/html": [
       "<div>\n",
       "<style scoped>\n",
       "    .dataframe tbody tr th:only-of-type {\n",
       "        vertical-align: middle;\n",
       "    }\n",
       "\n",
       "    .dataframe tbody tr th {\n",
       "        vertical-align: top;\n",
       "    }\n",
       "\n",
       "    .dataframe thead th {\n",
       "        text-align: right;\n",
       "    }\n",
       "</style>\n",
       "<table border=\"1\" class=\"dataframe\">\n",
       "  <thead>\n",
       "    <tr style=\"text-align: right;\">\n",
       "      <th></th>\n",
       "      <th>Station Name</th>\n",
       "      <th>empty_slots</th>\n",
       "      <th>free_bikes</th>\n",
       "      <th>ebikes</th>\n",
       "      <th>normal_bikes</th>\n",
       "      <th>name</th>\n",
       "      <th>distance</th>\n",
       "      <th>rating</th>\n",
       "      <th>price</th>\n",
       "      <th>review_count</th>\n",
       "      <th>poi_location</th>\n",
       "    </tr>\n",
       "  </thead>\n",
       "  <tbody>\n",
       "    <tr>\n",
       "      <th>0</th>\n",
       "      <td>Chilco &amp; Barclay</td>\n",
       "      <td>9</td>\n",
       "      <td>9</td>\n",
       "      <td>2</td>\n",
       "      <td>7</td>\n",
       "      <td>Kingyo</td>\n",
       "      <td>296.0</td>\n",
       "      <td>4.4</td>\n",
       "      <td>$$</td>\n",
       "      <td>1204.0</td>\n",
       "      <td>(49.29, -123.14)</td>\n",
       "    </tr>\n",
       "    <tr>\n",
       "      <th>1</th>\n",
       "      <td>Chilco &amp; Barclay</td>\n",
       "      <td>9</td>\n",
       "      <td>9</td>\n",
       "      <td>2</td>\n",
       "      <td>7</td>\n",
       "      <td>Guu with Garlic</td>\n",
       "      <td>533.0</td>\n",
       "      <td>4.3</td>\n",
       "      <td>$$</td>\n",
       "      <td>1081.0</td>\n",
       "      <td>(49.29, -123.13)</td>\n",
       "    </tr>\n",
       "    <tr>\n",
       "      <th>2</th>\n",
       "      <td>Chilco &amp; Barclay</td>\n",
       "      <td>9</td>\n",
       "      <td>9</td>\n",
       "      <td>2</td>\n",
       "      <td>7</td>\n",
       "      <td>Saku</td>\n",
       "      <td>682.0</td>\n",
       "      <td>4.4</td>\n",
       "      <td>$$</td>\n",
       "      <td>453.0</td>\n",
       "      <td>(49.29, -123.13)</td>\n",
       "    </tr>\n",
       "    <tr>\n",
       "      <th>3</th>\n",
       "      <td>Chilco &amp; Barclay</td>\n",
       "      <td>9</td>\n",
       "      <td>9</td>\n",
       "      <td>2</td>\n",
       "      <td>7</td>\n",
       "      <td>Cardero's Restaurant &amp; Marine Pub</td>\n",
       "      <td>954.0</td>\n",
       "      <td>3.9</td>\n",
       "      <td>$$$</td>\n",
       "      <td>715.0</td>\n",
       "      <td>(49.29, -123.13)</td>\n",
       "    </tr>\n",
       "    <tr>\n",
       "      <th>4</th>\n",
       "      <td>Chilco &amp; Barclay</td>\n",
       "      <td>9</td>\n",
       "      <td>9</td>\n",
       "      <td>2</td>\n",
       "      <td>7</td>\n",
       "      <td>Forage</td>\n",
       "      <td>990.0</td>\n",
       "      <td>4.1</td>\n",
       "      <td>$$</td>\n",
       "      <td>736.0</td>\n",
       "      <td>(49.29, -123.13)</td>\n",
       "    </tr>\n",
       "  </tbody>\n",
       "</table>\n",
       "</div>"
      ],
      "text/plain": [
       "       Station Name  empty_slots  free_bikes  ebikes  normal_bikes  \\\n",
       "0  Chilco & Barclay            9           9       2             7   \n",
       "1  Chilco & Barclay            9           9       2             7   \n",
       "2  Chilco & Barclay            9           9       2             7   \n",
       "3  Chilco & Barclay            9           9       2             7   \n",
       "4  Chilco & Barclay            9           9       2             7   \n",
       "\n",
       "                                name  distance  rating price  review_count  \\\n",
       "0                             Kingyo     296.0     4.4    $$        1204.0   \n",
       "1                    Guu with Garlic     533.0     4.3    $$        1081.0   \n",
       "2                               Saku     682.0     4.4    $$         453.0   \n",
       "3  Cardero's Restaurant & Marine Pub     954.0     3.9   $$$         715.0   \n",
       "4                             Forage     990.0     4.1    $$         736.0   \n",
       "\n",
       "       poi_location  \n",
       "0  (49.29, -123.14)  \n",
       "1  (49.29, -123.13)  \n",
       "2  (49.29, -123.13)  \n",
       "3  (49.29, -123.13)  \n",
       "4  (49.29, -123.13)  "
      ]
     },
     "execution_count": 2,
     "metadata": {},
     "output_type": "execute_result"
    }
   ],
   "source": [
    "df = pd.read_csv('../data/city_poi_data.csv')\n",
    "df.head()"
   ]
  },
  {
   "cell_type": "markdown",
   "metadata": {},
   "source": [
    "Let's build a sample regression model to predict the rating of a POI based on the number of bikes near by."
   ]
  },
  {
   "cell_type": "code",
   "execution_count": 3,
   "metadata": {},
   "outputs": [
    {
     "name": "stdout",
     "output_type": "stream",
     "text": [
      "                            OLS Regression Results                            \n",
      "==============================================================================\n",
      "Dep. Variable:                 rating   R-squared:                       0.018\n",
      "Model:                            OLS   Adj. R-squared:                  0.018\n",
      "Method:                 Least Squares   F-statistic:                     46.95\n",
      "Date:                Sun, 20 Oct 2024   Prob (F-statistic):           9.14e-12\n",
      "Time:                        19:18:15   Log-Likelihood:                -853.60\n",
      "No. Observations:                2524   AIC:                             1711.\n",
      "Df Residuals:                    2522   BIC:                             1723.\n",
      "Df Model:                           1                                         \n",
      "Covariance Type:            nonrobust                                         \n",
      "==============================================================================\n",
      "                 coef    std err          t      P>|t|      [0.025      0.975]\n",
      "------------------------------------------------------------------------------\n",
      "const          4.0534      0.009    427.661      0.000       4.035       4.072\n",
      "bike_count   3.96e-05   5.78e-06      6.852      0.000    2.83e-05    5.09e-05\n",
      "==============================================================================\n",
      "Omnibus:                      700.506   Durbin-Watson:                   1.819\n",
      "Prob(Omnibus):                  0.000   Jarque-Bera (JB):             2087.716\n",
      "Skew:                          -1.419   Prob(JB):                         0.00\n",
      "Kurtosis:                       6.434   Cond. No.                     2.30e+03\n",
      "==============================================================================\n",
      "\n",
      "Notes:\n",
      "[1] Standard Errors assume that the covariance matrix of the errors is correctly specified.\n",
      "[2] The condition number is large, 2.3e+03. This might indicate that there are\n",
      "strong multicollinearity or other numerical problems.\n"
     ]
    }
   ],
   "source": [
    "df_copy = df.copy()\n",
    "# Count the number of bikes for each POI\n",
    "poi_bike_counts = df_copy.groupby('poi_location')['free_bikes'].sum().reset_index()\n",
    "poi_bike_counts.columns = ['poi_location', 'bike_count']\n",
    "\n",
    "# Merge the counts back to the original dataframe\n",
    "df_copy = df_copy.merge(poi_bike_counts, on='poi_location', how='left')\n",
    "df_copy.head()\n",
    "\n",
    "X = df_copy['bike_count']\n",
    "y = df_copy['rating']\n",
    "\n",
    "# Add a constant to the independent variable\n",
    "X = sm.add_constant(X)\n",
    "\n",
    "# Fit the model\n",
    "model = sm.OLS(y, X).fit()\n",
    "\n",
    "# Print the model summary\n",
    "print(model.summary())\n"
   ]
  },
  {
   "cell_type": "markdown",
   "metadata": {},
   "source": [
    "# Regression Model Results Interpretation\n",
    "\n",
    "## Model Statistical Significance\n",
    "- **p-value** (Prob F-statistic): 9.14e-12 < 0.05\n",
    "- The model is statistically significant\n",
    "\n",
    "## Model Explanatory Power\n",
    "- **R-squared**: 0.018\n",
    "- **Adjusted R-squared**: 0.018\n",
    "- The model explains 1.8% of the variance in ratings\n",
    "\n",
    "## Impact of Bike Count on Ratings\n",
    "- **Coefficient**: 3.96e-05\n",
    "- For each additional bike, the rating increases by an average of 0.0000396 points\n",
    "\n",
    "## Model Equation\n",
    "Rating = 4.0534 + 0.0000396 * bike_count\n",
    "\n",
    "## Conclusions\n",
    "1. There is a **statistically significant relationship** between the number of bikes and POI ratings\n",
    "2. The practical impact is extremely small\n",
    "3. The model's explanatory power is very limited (only 1.8%)\n",
    "4. Other factors not included in this simple model likely have a much stronger influence on POI ratings"
   ]
  },
  {
   "cell_type": "markdown",
   "metadata": {},
   "source": [
    "Let's add the ratio of ebikes to total bikes to the model."
   ]
  },
  {
   "cell_type": "code",
   "execution_count": 4,
   "metadata": {},
   "outputs": [
    {
     "name": "stdout",
     "output_type": "stream",
     "text": [
      "226\n",
      "                            OLS Regression Results                            \n",
      "==============================================================================\n",
      "Dep. Variable:                 rating   R-squared:                       0.021\n",
      "Model:                            OLS   Adj. R-squared:                  0.020\n",
      "Method:                 Least Squares   F-statistic:                     24.21\n",
      "Date:                Sun, 20 Oct 2024   Prob (F-statistic):           3.94e-11\n",
      "Time:                        19:18:15   Log-Likelihood:                -809.11\n",
      "No. Observations:                2298   AIC:                             1624.\n",
      "Df Residuals:                    2295   BIC:                             1641.\n",
      "Df Model:                           2                                         \n",
      "Covariance Type:            nonrobust                                         \n",
      "===============================================================================\n",
      "                  coef    std err          t      P>|t|      [0.025      0.975]\n",
      "-------------------------------------------------------------------------------\n",
      "const           4.0393      0.012    342.375      0.000       4.016       4.062\n",
      "bike_count    4.28e-05   6.16e-06      6.953      0.000    3.07e-05    5.49e-05\n",
      "ebike_ratio     0.0162      0.023      0.696      0.487      -0.029       0.062\n",
      "==============================================================================\n",
      "Omnibus:                      625.822   Durbin-Watson:                   1.817\n",
      "Prob(Omnibus):                  0.000   Jarque-Bera (JB):             1787.725\n",
      "Skew:                          -1.407   Prob(JB):                         0.00\n",
      "Kurtosis:                       6.279   Cond. No.                     5.57e+03\n",
      "==============================================================================\n",
      "\n",
      "Notes:\n",
      "[1] Standard Errors assume that the covariance matrix of the errors is correctly specified.\n",
      "[2] The condition number is large, 5.57e+03. This might indicate that there are\n",
      "strong multicollinearity or other numerical problems.\n"
     ]
    }
   ],
   "source": [
    "# Check for division by zero cases\n",
    "print((df_copy['free_bikes'] == 0).sum())\n",
    "\n",
    "# Safely calculate the ratio, avoiding division by zero\n",
    "df_copy['ebike_ratio'] = df_copy['ebikes'] / df_copy['free_bikes'].replace(0, np.nan)\n",
    "\n",
    "# Check and handle infinite and NaN values\n",
    "df_copy['ebike_ratio'] = df_copy['ebike_ratio'].replace([np.inf, -np.inf], np.nan)\n",
    "\n",
    "# Remove rows containing NaN\n",
    "df_copy = df_copy.dropna(subset=['bike_count', 'ebike_ratio'])\n",
    "\n",
    "X = df_copy[['bike_count', 'ebike_ratio']]\n",
    "y = df_copy['rating']\n",
    "\n",
    "# Add a constant to the independent variable\n",
    "X = sm.add_constant(X)\n",
    "\n",
    "# Fit the model\n",
    "model = sm.OLS(y, X).fit()\n",
    "\n",
    "# Print the model summary\n",
    "print(model.summary())\n"
   ]
  },
  {
   "cell_type": "markdown",
   "metadata": {},
   "source": [
    "Ebikes ratio is not statistically significant. Let's try to add empty_slots to the model.\n"
   ]
  },
  {
   "cell_type": "code",
   "execution_count": 5,
   "metadata": {},
   "outputs": [
    {
     "name": "stdout",
     "output_type": "stream",
     "text": [
      "                            OLS Regression Results                            \n",
      "==============================================================================\n",
      "Dep. Variable:                 rating   R-squared:                       0.020\n",
      "Model:                            OLS   Adj. R-squared:                  0.020\n",
      "Method:                 Least Squares   F-statistic:                     24.00\n",
      "Date:                Sun, 20 Oct 2024   Prob (F-statistic):           4.85e-11\n",
      "Time:                        19:18:15   Log-Likelihood:                -809.32\n",
      "No. Observations:                2298   AIC:                             1625.\n",
      "Df Residuals:                    2295   BIC:                             1642.\n",
      "Df Model:                           2                                         \n",
      "Covariance Type:            nonrobust                                         \n",
      "===============================================================================\n",
      "                  coef    std err          t      P>|t|      [0.025      0.975]\n",
      "-------------------------------------------------------------------------------\n",
      "const           4.0401      0.016    249.435      0.000       4.008       4.072\n",
      "bike_count   4.269e-05   6.17e-06      6.918      0.000    3.06e-05    5.48e-05\n",
      "empty_slots     0.0003      0.001      0.265      0.791      -0.002       0.003\n",
      "==============================================================================\n",
      "Omnibus:                      626.838   Durbin-Watson:                   1.817\n",
      "Prob(Omnibus):                  0.000   Jarque-Bera (JB):             1792.789\n",
      "Skew:                          -1.409   Prob(JB):                         0.00\n",
      "Kurtosis:                       6.283   Cond. No.                     3.73e+03\n",
      "==============================================================================\n",
      "\n",
      "Notes:\n",
      "[1] Standard Errors assume that the covariance matrix of the errors is correctly specified.\n",
      "[2] The condition number is large, 3.73e+03. This might indicate that there are\n",
      "strong multicollinearity or other numerical problems.\n"
     ]
    }
   ],
   "source": [
    "X = df_copy[['bike_count', 'empty_slots']]\n",
    "y = df_copy['rating']\n",
    "\n",
    "# Add a constant to the independent variable\n",
    "X = sm.add_constant(X)\n",
    "\n",
    "# Fit the model\n",
    "model = sm.OLS(y, X).fit()\n",
    "\n",
    "# Print the model summary\n",
    "print(model.summary())\n",
    "\n"
   ]
  },
  {
   "cell_type": "markdown",
   "metadata": {},
   "source": [
    "Empty slots is not statistically significant either. Let's try the average distance to the nearest bike."
   ]
  },
  {
   "cell_type": "code",
   "execution_count": 6,
   "metadata": {},
   "outputs": [
    {
     "name": "stdout",
     "output_type": "stream",
     "text": [
      "                            OLS Regression Results                            \n",
      "==============================================================================\n",
      "Dep. Variable:                 rating   R-squared:                       0.022\n",
      "Model:                            OLS   Adj. R-squared:                  0.021\n",
      "Method:                 Least Squares   F-statistic:                     25.79\n",
      "Date:                Sun, 20 Oct 2024   Prob (F-statistic):           8.36e-12\n",
      "Time:                        19:18:15   Log-Likelihood:                -807.56\n",
      "No. Observations:                2298   AIC:                             1621.\n",
      "Df Residuals:                    2295   BIC:                             1638.\n",
      "Df Model:                           2                                         \n",
      "Covariance Type:            nonrobust                                         \n",
      "=================================================================================\n",
      "                    coef    std err          t      P>|t|      [0.025      0.975]\n",
      "---------------------------------------------------------------------------------\n",
      "const             3.8506      0.102     37.639      0.000       3.650       4.051\n",
      "mean_distance     0.0003      0.000      1.894      0.058   -1.07e-05       0.001\n",
      "bike_count     4.346e-05   6.16e-06      7.056      0.000    3.14e-05    5.55e-05\n",
      "==============================================================================\n",
      "Omnibus:                      640.021   Durbin-Watson:                   1.820\n",
      "Prob(Omnibus):                  0.000   Jarque-Bera (JB):             1871.769\n",
      "Skew:                          -1.430   Prob(JB):                         0.00\n",
      "Kurtosis:                       6.372   Cond. No.                     2.45e+04\n",
      "==============================================================================\n",
      "\n",
      "Notes:\n",
      "[1] Standard Errors assume that the covariance matrix of the errors is correctly specified.\n",
      "[2] The condition number is large, 2.45e+04. This might indicate that there are\n",
      "strong multicollinearity or other numerical problems.\n"
     ]
    }
   ],
   "source": [
    "# Safely calculate the average distance to the nearest bike\n",
    "df_mean_distance = df_copy.groupby('poi_location')['distance'].mean().reset_index()\n",
    "df_mean_distance.columns = ['poi_location', 'mean_distance']\n",
    "\n",
    "# Merge the counts back to the original dataframe\n",
    "df_copy = df_copy.merge(df_mean_distance, on='poi_location', how='left')\n",
    "\n",
    "# Add a constant to the independent variable\n",
    "X = df_copy[['mean_distance', 'bike_count']]\n",
    "y = df_copy['rating']\n",
    "\n",
    "# Add a constant to the independent variable\n",
    "X = sm.add_constant(X)\n",
    "\n",
    "# Fit the model\n",
    "model = sm.OLS(y, X).fit()\n",
    "\n",
    "# Print the model summary\n",
    "print(model.summary())"
   ]
  },
  {
   "cell_type": "markdown",
   "metadata": {},
   "source": [
    "Again the average distance is not statistically significant. but the P-value is 0.05, which is close to the threshold and the R-squared is 0.02, which is slightly better than the model with bike count only."
   ]
  },
  {
   "cell_type": "markdown",
   "metadata": {},
   "source": [
    "Finally, I will add the review count and the price to the model.\n"
   ]
  },
  {
   "cell_type": "code",
   "execution_count": 7,
   "metadata": {},
   "outputs": [
    {
     "name": "stdout",
     "output_type": "stream",
     "text": [
      "                            OLS Regression Results                            \n",
      "==============================================================================\n",
      "Dep. Variable:                 rating   R-squared:                       0.117\n",
      "Model:                            OLS   Adj. R-squared:                  0.114\n",
      "Method:                 Least Squares   F-statistic:                     43.40\n",
      "Date:                Sun, 20 Oct 2024   Prob (F-statistic):           7.24e-58\n",
      "Time:                        19:18:15   Log-Likelihood:                -689.97\n",
      "No. Observations:                2298   AIC:                             1396.\n",
      "Df Residuals:                    2290   BIC:                             1442.\n",
      "Df Model:                           7                                         \n",
      "Covariance Type:            nonrobust                                         \n",
      "=================================================================================\n",
      "                    coef    std err          t      P>|t|      [0.025      0.975]\n",
      "---------------------------------------------------------------------------------\n",
      "const             3.8135      0.102     37.436      0.000       3.614       4.013\n",
      "mean_distance     0.0006      0.000      3.889      0.000       0.000       0.001\n",
      "bike_count     2.117e-05   6.67e-06      3.175      0.002    8.09e-06    3.42e-05\n",
      "price_1.0         0.0055      0.130      0.042      0.966      -0.249       0.260\n",
      "price_2.0        -0.2620      0.029     -9.035      0.000      -0.319      -0.205\n",
      "price_3.0        -0.1011      0.031     -3.229      0.001      -0.163      -0.040\n",
      "price_4.0         0.0485      0.040      1.207      0.228      -0.030       0.127\n",
      "review_count   9.167e-05   1.44e-05      6.361      0.000    6.34e-05       0.000\n",
      "==============================================================================\n",
      "Omnibus:                      554.516   Durbin-Watson:                   1.787\n",
      "Prob(Omnibus):                  0.000   Jarque-Bera (JB):             1556.777\n",
      "Skew:                          -1.251   Prob(JB):                         0.00\n",
      "Kurtosis:                       6.162   Cond. No.                     3.57e+04\n",
      "==============================================================================\n",
      "\n",
      "Notes:\n",
      "[1] Standard Errors assume that the covariance matrix of the errors is correctly specified.\n",
      "[2] The condition number is large, 3.57e+04. This might indicate that there are\n",
      "strong multicollinearity or other numerical problems.\n"
     ]
    }
   ],
   "source": [
    "# Create a mapping dictionary to convert price symbols to numeric values\n",
    "price_map = {\n",
    "    '$': 1,\n",
    "    '$$': 2,\n",
    "    '$$$': 3,\n",
    "    '$$$$': 4\n",
    "}\n",
    "\n",
    "# Convert the price column using the mapping\n",
    "df_copy['price_category'] = df_copy['price'].map(price_map)\n",
    "\n",
    "# Create dummy variables\n",
    "price_dummies = pd.get_dummies(df_copy['price_category'], prefix='price')\n",
    "price_dummies = price_dummies.astype(int)\n",
    "df_copy = pd.concat([df_copy, price_dummies], axis=1)\n",
    "\n",
    "# Select features and target\n",
    "X = df_copy[['mean_distance', 'bike_count', 'price_1.0', 'price_2.0', 'price_3.0', 'price_4.0', 'review_count']]\n",
    "y = df_copy['rating']\n",
    "\n",
    "# Convert to numeric and handle missing values\n",
    "X = X.apply(pd.to_numeric, errors='coerce')\n",
    "X = X.dropna()\n",
    "y = y[X.index]\n",
    "\n",
    "# Ensure all columns are numeric\n",
    "numeric_columns = X.select_dtypes(include=[np.number]).columns\n",
    "X = X[numeric_columns]\n",
    "\n",
    "# Add a constant to the independent variable\n",
    "X = sm.add_constant(X)\n",
    "\n",
    "# Fit the model\n",
    "model = sm.OLS(y, X).fit()\n",
    "\n",
    "# Print the model summary\n",
    "print(model.summary())\n"
   ]
  },
  {
   "cell_type": "markdown",
   "metadata": {},
   "source": [
    "This is a completely wrong choice! The new model is even worse than the model with bike count only. Moreover, the some of price is not statistically significant. Let's drop it."
   ]
  },
  {
   "cell_type": "code",
   "execution_count": 9,
   "metadata": {},
   "outputs": [
    {
     "name": "stdout",
     "output_type": "stream",
     "text": [
      "                            OLS Regression Results                            \n",
      "==============================================================================\n",
      "Dep. Variable:                 rating   R-squared:                       0.117\n",
      "Model:                            OLS   Adj. R-squared:                  0.115\n",
      "Method:                 Least Squares   F-statistic:                     60.48\n",
      "Date:                Sun, 20 Oct 2024   Prob (F-statistic):           2.44e-59\n",
      "Time:                        19:22:37   Log-Likelihood:                -690.70\n",
      "No. Observations:                2298   AIC:                             1393.\n",
      "Df Residuals:                    2292   BIC:                             1428.\n",
      "Df Model:                           5                                         \n",
      "Covariance Type:            nonrobust                                         \n",
      "=================================================================================\n",
      "                    coef    std err          t      P>|t|      [0.025      0.975]\n",
      "---------------------------------------------------------------------------------\n",
      "const             3.8155      0.098     38.857      0.000       3.623       4.008\n",
      "mean_distance     0.0007      0.000      4.239      0.000       0.000       0.001\n",
      "bike_count     2.216e-05   6.61e-06      3.351      0.001    9.19e-06    3.51e-05\n",
      "price_2.0        -0.2852      0.021    -13.265      0.000      -0.327      -0.243\n",
      "price_3.0        -0.1246      0.024     -5.133      0.000      -0.172      -0.077\n",
      "review_count   9.344e-05   1.43e-05      6.519      0.000    6.53e-05       0.000\n",
      "==============================================================================\n",
      "Omnibus:                      557.432   Durbin-Watson:                   1.782\n",
      "Prob(Omnibus):                  0.000   Jarque-Bera (JB):             1566.738\n",
      "Skew:                          -1.257   Prob(JB):                         0.00\n",
      "Kurtosis:                       6.168   Cond. No.                     2.59e+04\n",
      "==============================================================================\n",
      "\n",
      "Notes:\n",
      "[1] Standard Errors assume that the covariance matrix of the errors is correctly specified.\n",
      "[2] The condition number is large, 2.59e+04. This might indicate that there are\n",
      "strong multicollinearity or other numerical problems.\n"
     ]
    }
   ],
   "source": [
    "# Drop the price_1.0 and price_4.0 columns, because they are not statistically significant\n",
    "X = X.drop(columns=['price_1.0', 'price_4.0'])\n",
    "\n",
    "# Fit the model\n",
    "model = sm.OLS(y, X).fit()\n",
    "\n",
    "# Print the model summary\n",
    "print(model.summary())"
   ]
  },
  {
   "cell_type": "markdown",
   "metadata": {},
   "source": [
    "The model's performance is not improved, The original model is still the best.\n"
   ]
  },
  {
   "cell_type": "markdown",
   "metadata": {},
   "source": [
    "# Stretch"
   ]
  },
  {
   "cell_type": "markdown",
   "metadata": {},
   "source": [
    "How can you turn the regression model into a classification model?"
   ]
  },
  {
   "cell_type": "markdown",
   "metadata": {},
   "source": [
    "1. Degine a threshold for the rating, e.g. if the rating is greater than 3, it is a positive review, otherwise it is a negative review.\n",
    "2. Based on the threhold, create a new column for the binary classification, 1 for positive review and 0 for negative review.\n",
    "3. Build a classification model using the new column."
   ]
  }
 ],
 "metadata": {
  "kernelspec": {
   "display_name": "Python 3",
   "language": "python",
   "name": "python3"
  },
  "language_info": {
   "codemirror_mode": {
    "name": "ipython",
    "version": 3
   },
   "file_extension": ".py",
   "mimetype": "text/x-python",
   "name": "python",
   "nbconvert_exporter": "python",
   "pygments_lexer": "ipython3",
   "version": "3.11.9"
  }
 },
 "nbformat": 4,
 "nbformat_minor": 4
}
